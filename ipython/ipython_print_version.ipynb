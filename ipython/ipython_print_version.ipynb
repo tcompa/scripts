{
 "cells": [
  {
   "cell_type": "code",
   "execution_count": 1,
   "metadata": {
    "collapsed": false
   },
   "outputs": [
    {
     "data": {
      "application/json": {
       "Software versions": [
        {
         "module": "Python",
         "version": "2.7.3 64bit [GCC 4.6.3]"
        },
        {
         "module": "IPython",
         "version": "3.0.0-rc1"
        },
        {
         "module": "OS",
         "version": "Linux 3.13.0 61 generic x86_64 with Ubuntu 12.04 precise"
        },
        {
         "module": "numpy",
         "version": "1.9.2"
        },
        {
         "module": "scipy",
         "version": "0.14.0"
        },
        {
         "module": "matplotlib",
         "version": "1.4.3"
        }
       ]
      },
      "text/html": [
       "<table><tr><th>Software</th><th>Version</th></tr><tr><td>Python</td><td>2.7.3 64bit [GCC 4.6.3]</td></tr><tr><td>IPython</td><td>3.0.0-rc1</td></tr><tr><td>OS</td><td>Linux 3.13.0 61 generic x86_64 with Ubuntu 12.04 precise</td></tr><tr><td>numpy</td><td>1.9.2</td></tr><tr><td>scipy</td><td>0.14.0</td></tr><tr><td>matplotlib</td><td>1.4.3</td></tr><tr><td colspan='2'>Tue Aug 04 17:56:15 2015 CEST</td></tr></table>"
      ],
      "text/latex": [
       "\\begin{tabular}{|l|l|}\\hline\n",
       "{\\bf Software} & {\\bf Version} \\\\ \\hline\\hline\n",
       "Python & 2.7.3 64bit [GCC 4.6.3] \\\\ \\hline\n",
       "IPython & 3.0.0-rc1 \\\\ \\hline\n",
       "OS & Linux 3.13.0 61 generic x86\\_64 with Ubuntu 12.04 precise \\\\ \\hline\n",
       "numpy & 1.9.2 \\\\ \\hline\n",
       "scipy & 0.14.0 \\\\ \\hline\n",
       "matplotlib & 1.4.3 \\\\ \\hline\n",
       "\\hline \\multicolumn{2}{|l|}{Tue Aug 04 17:56:15 2015 CEST} \\\\ \\hline\n",
       "\\end{tabular}\n"
      ],
      "text/plain": [
       "Software versions\n",
       "Python 2.7.3 64bit [GCC 4.6.3]\n",
       "IPython 3.0.0-rc1\n",
       "OS Linux 3.13.0 61 generic x86_64 with Ubuntu 12.04 precise\n",
       "numpy 1.9.2\n",
       "scipy 0.14.0\n",
       "matplotlib 1.4.3\n",
       "Tue Aug 04 17:56:15 2015 CEST"
      ]
     },
     "execution_count": 1,
     "metadata": {},
     "output_type": "execute_result"
    }
   ],
   "source": [
    "#%install_ext http://raw.github.com/jrjohansson/version_information/master/version_information.py\n",
    "# you need to run the line above only once\n",
    "%load_ext version_information\n",
    "%reload_ext version_information\n",
    "\n",
    "%version_information numpy, scipy, matplotlib"
   ]
  }
 ],
 "metadata": {
  "kernelspec": {
   "display_name": "Python 2",
   "language": "python",
   "name": "python2"
  },
  "language_info": {
   "codemirror_mode": {
    "name": "ipython",
    "version": 2
   },
   "file_extension": ".py",
   "mimetype": "text/x-python",
   "name": "python",
   "nbconvert_exporter": "python",
   "pygments_lexer": "ipython2",
   "version": "2.7.3"
  }
 },
 "nbformat": 4,
 "nbformat_minor": 0
}
