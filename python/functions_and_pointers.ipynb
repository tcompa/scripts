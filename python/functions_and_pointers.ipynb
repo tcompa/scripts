{
 "cells": [
  {
   "cell_type": "markdown",
   "metadata": {},
   "source": [
    "This is to show how functions do or do not modify their variables.  \n",
    "The general rule is the same as for when we do B=A and then modify B: What happens to A? The answer is in the scheme below."
   ]
  },
  {
   "cell_type": "code",
   "execution_count": 1,
   "metadata": {
    "collapsed": false
   },
   "outputs": [
    {
     "data": {
      "text/html": [
       "<img src=\"http://i.stack.imgur.com/hKDcu.png\"/>"
      ],
      "text/plain": [
       "<IPython.core.display.Image object>"
      ]
     },
     "metadata": {},
     "output_type": "display_data"
    }
   ],
   "source": [
    "from IPython.display import Image\n",
    "from IPython.display import display\n",
    "\n",
    "display(Image(url='http://i.stack.imgur.com/hKDcu.png'))"
   ]
  },
  {
   "cell_type": "markdown",
   "metadata": {},
   "source": [
    "When you pass a variable to a function, its ID does not change, as shown just below."
   ]
  },
  {
   "cell_type": "code",
   "execution_count": 2,
   "metadata": {
    "collapsed": false
   },
   "outputs": [
    {
     "name": "stdout",
     "output_type": "stream",
     "text": [
      "In main, id(a)=15462776\n",
      "In func, id(x)=15462776\n"
     ]
    }
   ],
   "source": [
    "def func(x):\n",
    "    print 'In func, id(x)=%i' % id(x)\n",
    "\n",
    "a = 1\n",
    "print 'In main, id(a)=%i' % id(a)\n",
    "func(a)    "
   ]
  },
  {
   "cell_type": "markdown",
   "metadata": {},
   "source": [
    " This means that the same rules of the A=B problem above also work for a variable. Here we show them explicitely for fun1, fun2, fun3 (corresponding to the three cases in the figure, from left to right)."
   ]
  },
  {
   "cell_type": "code",
   "execution_count": 3,
   "metadata": {
    "collapsed": false
   },
   "outputs": [
    {
     "name": "stdout",
     "output_type": "stream",
     "text": [
      "Case 1: x is of any immutable type -> it does not change\n",
      "pre-function, x: 0\n",
      "post-function, x: 0\n"
     ]
    }
   ],
   "source": [
    "def fun1(x):\n",
    "    x = 1\n",
    "\n",
    "print 'Case 1: x is of any immutable type -> it does not change'\n",
    "x = 0\n",
    "print 'pre-function, x:', x\n",
    "fun1(x)\n",
    "print 'post-function, x:', x"
   ]
  },
  {
   "cell_type": "code",
   "execution_count": 4,
   "metadata": {
    "collapsed": false
   },
   "outputs": [
    {
     "name": "stdout",
     "output_type": "stream",
     "text": [
      "Case 2: x is mutable, and it is reassigned within the function -> it does not change\n",
      "pre-function, x: [0]\n",
      "post-function, x: [0]\n"
     ]
    }
   ],
   "source": [
    "def fun2(x):\n",
    "    x = [1]\n",
    "\n",
    "print 'Case 2: x is mutable, and it is reassigned within the function -> it does not change'\n",
    "x = [0]\n",
    "print 'pre-function, x:', x\n",
    "fun2(x)\n",
    "print 'post-function, x:', x"
   ]
  },
  {
   "cell_type": "code",
   "execution_count": 1,
   "metadata": {
    "collapsed": false
   },
   "outputs": [
    {
     "name": "stdout",
     "output_type": "stream",
     "text": [
      "Case 3: x is mutable, and it is modified in-place within the function -> it does change\n",
      "pre-function, x: [0]\n",
      "post-function, x: [1]\n"
     ]
    }
   ],
   "source": [
    "def fun3(x):\n",
    "    x[0] = 1\n",
    "\n",
    "print 'Case 3: x is mutable, and it is modified in-place within the function -> it does change'\n",
    "x = [0]\n",
    "print 'pre-function, x:', x\n",
    "fun3(x)\n",
    "print 'post-function, x:', x"
   ]
  }
 ],
 "metadata": {
  "kernelspec": {
   "display_name": "Python 2",
   "language": "python",
   "name": "python2"
  },
  "language_info": {
   "codemirror_mode": {
    "name": "ipython",
    "version": 2
   },
   "file_extension": ".py",
   "mimetype": "text/x-python",
   "name": "python",
   "nbconvert_exporter": "python",
   "pygments_lexer": "ipython2",
   "version": "2.7.11"
  }
 },
 "nbformat": 4,
 "nbformat_minor": 0
}
