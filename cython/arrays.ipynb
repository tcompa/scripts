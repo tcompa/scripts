{
 "cells": [
  {
   "cell_type": "markdown",
   "metadata": {},
   "source": [
    "**program**: arrays.ipynb  \n",
    "**created**: 2015-10-22 -- 22 CEST  \n",
    "**author**: tc  \n",
    "**notes**: naive example of how to use arrays in cython"
   ]
  },
  {
   "cell_type": "code",
   "execution_count": 1,
   "metadata": {
    "collapsed": true
   },
   "outputs": [],
   "source": [
    "%reload_ext Cython\n",
    "import numpy"
   ]
  },
  {
   "cell_type": "code",
   "execution_count": 2,
   "metadata": {
    "collapsed": false
   },
   "outputs": [],
   "source": [
    "def function_py(N):\n",
    "    x = numpy.zeros(N)\n",
    "    res = 0.0\n",
    "    for i in range(N):\n",
    "        res += x[i]\n",
    "    return"
   ]
  },
  {
   "cell_type": "code",
   "execution_count": 3,
   "metadata": {
    "collapsed": false
   },
   "outputs": [],
   "source": [
    "%%cython\n",
    "import numpy\n",
    "cimport numpy\n",
    "import cython\n",
    "\n",
    "def function_cy(int N):\n",
    "    x = numpy.zeros(N)\n",
    "    cdef double res = 0.0\n",
    "    cdef int i\n",
    "    for i in range(N):\n",
    "        res += x[i]\n",
    "    return\n",
    "\n",
    "def function_cy_with_array(int N):\n",
    "    cdef double [:]x = numpy.zeros(N)\n",
    "    cdef double res = 0.0\n",
    "    cdef int i\n",
    "    for i in range(N):\n",
    "        res += x[i]\n",
    "    return\n",
    "\n",
    "@cython.boundscheck(False)\n",
    "def function_cy_with_array_and_no_boundscheck(int N):\n",
    "    cdef double [:]x = numpy.zeros(N)\n",
    "    cdef double res = 0.0\n",
    "    cdef int i\n",
    "    for i in range(N):\n",
    "        res += x[i]\n",
    "    return"
   ]
  },
  {
   "cell_type": "code",
   "execution_count": 4,
   "metadata": {
    "collapsed": false
   },
   "outputs": [
    {
     "name": "stdout",
     "output_type": "stream",
     "text": [
      "1 loops, best of 3: 228 ms per loop\n",
      "10 loops, best of 3: 134 ms per loop\n",
      "1000 loops, best of 3: 1.48 ms per loop\n",
      "1000 loops, best of 3: 696 µs per loop\n"
     ]
    }
   ],
   "source": [
    "N = 1000000\n",
    "%timeit function_py(N)\n",
    "%timeit function_cy(N)\n",
    "%timeit function_cy_with_array(N)\n",
    "%timeit function_cy_with_array_and_no_boundscheck(N)"
   ]
  },
  {
   "cell_type": "code",
   "execution_count": 5,
   "metadata": {
    "collapsed": false
   },
   "outputs": [
    {
     "data": {
      "application/json": {
       "Software versions": [
        {
         "module": "Python",
         "version": "2.7.10 64bit [GCC 4.4.7 20120313 (Red Hat 4.4.7-1)]"
        },
        {
         "module": "IPython",
         "version": "4.0.0"
        },
        {
         "module": "OS",
         "version": "Linux 3.13.0 65 generic x86_64 with debian wheezy sid"
        },
        {
         "module": "cython",
         "version": "0.23.3"
        },
        {
         "module": "Cython",
         "version": "0.23.3"
        }
       ]
      },
      "text/html": [
       "<table><tr><th>Software</th><th>Version</th></tr><tr><td>Python</td><td>2.7.10 64bit [GCC 4.4.7 20120313 (Red Hat 4.4.7-1)]</td></tr><tr><td>IPython</td><td>4.0.0</td></tr><tr><td>OS</td><td>Linux 3.13.0 65 generic x86_64 with debian wheezy sid</td></tr><tr><td>cython</td><td>0.23.3</td></tr><tr><td>Cython</td><td>0.23.3</td></tr><tr><td colspan='2'>Thu Oct 22 22:40:12 2015 CEST</td></tr></table>"
      ],
      "text/latex": [
       "\\begin{tabular}{|l|l|}\\hline\n",
       "{\\bf Software} & {\\bf Version} \\\\ \\hline\\hline\n",
       "Python & 2.7.10 64bit [GCC 4.4.7 20120313 (Red Hat 4.4.7-1)] \\\\ \\hline\n",
       "IPython & 4.0.0 \\\\ \\hline\n",
       "OS & Linux 3.13.0 65 generic x86\\_64 with debian wheezy sid \\\\ \\hline\n",
       "cython & 0.23.3 \\\\ \\hline\n",
       "Cython & 0.23.3 \\\\ \\hline\n",
       "\\hline \\multicolumn{2}{|l|}{Thu Oct 22 22:40:12 2015 CEST} \\\\ \\hline\n",
       "\\end{tabular}\n"
      ],
      "text/plain": [
       "Software versions\n",
       "Python 2.7.10 64bit [GCC 4.4.7 20120313 (Red Hat 4.4.7-1)]\n",
       "IPython 4.0.0\n",
       "OS Linux 3.13.0 65 generic x86_64 with debian wheezy sid\n",
       "cython 0.23.3\n",
       "Cython 0.23.3\n",
       "Thu Oct 22 22:40:12 2015 CEST"
      ]
     },
     "execution_count": 5,
     "metadata": {},
     "output_type": "execute_result"
    }
   ],
   "source": [
    "## %install_ext http://raw.github.com/jrjohansson/version_information/master/version_information.py\n",
    "# you need to run the line above only once\n",
    "%load_ext version_information\n",
    "%reload_ext version_information\n",
    "%version_information cython, Cython"
   ]
  },
  {
   "cell_type": "code",
   "execution_count": null,
   "metadata": {
    "collapsed": true
   },
   "outputs": [],
   "source": []
  }
 ],
 "metadata": {
  "kernelspec": {
   "display_name": "Python 2",
   "language": "python",
   "name": "python2"
  },
  "language_info": {
   "codemirror_mode": {
    "name": "ipython",
    "version": 2
   },
   "file_extension": ".py",
   "mimetype": "text/x-python",
   "name": "python",
   "nbconvert_exporter": "python",
   "pygments_lexer": "ipython2",
   "version": "2.7.10"
  }
 },
 "nbformat": 4,
 "nbformat_minor": 0
}
