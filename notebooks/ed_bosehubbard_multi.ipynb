{
 "cells": [
  {
   "cell_type": "code",
   "execution_count": 1,
   "metadata": {
    "collapsed": true
   },
   "outputs": [],
   "source": [
    "%matplotlib inline\n",
    "\n",
    "from __future__ import print_function\n",
    "import math\n",
    "import itertools\n",
    "import numpy\n",
    "import numpy.linalg\n",
    "import matplotlib.pyplot as plt"
   ]
  },
  {
   "cell_type": "code",
   "execution_count": 18,
   "metadata": {},
   "outputs": [
    {
     "name": "stdout",
     "output_type": "stream",
     "text": [
      "#sites:                   6\n",
      "nmax:                     2\n",
      "Hilbert-space dimensions: 729\n"
     ]
    }
   ],
   "source": [
    "L = 6\n",
    "nmax = 2\n",
    "nstates = (nmax + 1) ** L\n",
    "states = numpy.empty((nstates, L), dtype=int)\n",
    "print('#sites:                   %i' % L)\n",
    "print('nmax:                     %i' % nmax)\n",
    "print('Hilbert-space dimensions: %i' % nstates)"
   ]
  },
  {
   "cell_type": "code",
   "execution_count": 19,
   "metadata": {},
   "outputs": [
    {
     "name": "stdout",
     "output_type": "stream",
     "text": [
      "States enumeration completed\n"
     ]
    }
   ],
   "source": [
    "istate=0\n",
    "for state in itertools.product(range(nmax + 1), repeat=L):\n",
    "    states[istate, :] = state[:]\n",
    "    istate += 1\n",
    "print('States enumeration completed')"
   ]
  },
  {
   "cell_type": "code",
   "execution_count": 20,
   "metadata": {},
   "outputs": [],
   "source": [
    "# Fill matrix H\n",
    "def build_H(states, U, J, mu):\n",
    "\n",
    "    _nstates = len(states)\n",
    "    _H = numpy.zeros((_nstates, _nstates))\n",
    "    for istate1, state1 in enumerate(states):\n",
    "        \n",
    "        # Diagonal terms\n",
    "        for site in xrange(L):\n",
    "            _H[istate1, istate1] += 0.5 * U * state1[site] * (state1[site] - 1.0)\n",
    "            _H[istate1, istate1] -= mu * state1[site]\n",
    "            \n",
    "        # Off-diagonal terms\n",
    "        for istate2, state2 in enumerate(states):\n",
    "\n",
    "            for site in xrange(L):\n",
    "\n",
    "                state1_site = state1[site]\n",
    "                state2_site = state2[site]\n",
    "                state1_site_p1 = state1[(site + 1) % L]\n",
    "                state2_site_p1 = state2[(site + 1) % L]\n",
    "\n",
    "                if ((state1_site == (state2_site + 1)) and\n",
    "                    (state1_site_p1 == (state2_site_p1 - 1))):\n",
    "                    _H[istate1, istate2] -= J * math.sqrt(state1_site * (state1_site_p1 + 1.0))\n",
    "                    assert istate1 != istate2\n",
    "                    \n",
    "                if ((state1_site_p1 == (state2_site_p1 + 1)) and\n",
    "                    (state1_site == (state2_site - 1))):\n",
    "                    _H[istate1, istate2] -= J * math.sqrt(state1_site_p1 * (state1_site + 1.0))\n",
    "                    \n",
    "    assert numpy.allclose(_H, _H.T)\n",
    "    return _H[:, :].copy()\n"
   ]
  },
  {
   "cell_type": "code",
   "execution_count": 22,
   "metadata": {},
   "outputs": [
    {
     "name": "stdout",
     "output_type": "stream",
     "text": [
      "0.0 -3.0 6.0\n",
      "0.00244444444444 -3.00133065227 5.99987787332\n",
      "0.00488888888889 -3.00601092757 5.99840077979\n",
      "0.00733333333333 -3.0169556179 5.98663084943\n",
      "0.00977777777778 -3.04753044257 5.88435386412\n",
      "0.0122222222222 -3.17941172776 5.15910813512\n",
      "0.0146666666667 -3.5377440037 4.52059222579\n",
      "0.0171111111111 -4.07269005994 4.38215774572\n",
      "0.0195555555556 -4.76460627164 4.41038467259\n",
      "0.022 -5.61146184494 4.5141066474\n"
     ]
    },
    {
     "data": {
      "image/png": "[encoded data removed]",
      "text/plain": [
       "<matplotlib.figure.Figure at 0x7f9f6736cbd0>"
      ]
     },
     "metadata": {},
     "output_type": "display_data"
    }
   ],
   "source": [
    "def get_Ntotal(coefficients, states):\n",
    "    Ntotal = 0.0\n",
    "    for istate, state in enumerate(states):\n",
    "        Ntotal += (coefficients[istate] ** 2) * state.sum()\n",
    "    return Ntotal\n",
    "\n",
    "\n",
    "U = 1.0\n",
    "mu = 0.5\n",
    "list_J = numpy.linspace(0.0, 0.022, 10)\n",
    "list_N = numpy.empty_like(list_J)\n",
    "for iJ, J in enumerate(list_J):\n",
    "    H = build_H(states, 10.0, J, mu)\n",
    "    evals, evecs = numpy.linalg.eigh(H)\n",
    "    indices = evals.argsort()\n",
    "    evals = evals[indices]\n",
    "    evecs = (evecs.T)[indices]\n",
    "    list_N[iJ] = get_Ntotal(evecs[0], states)\n",
    "    print(J, evals[0], list_N[iJ])\n",
    "\n",
    "plt.plot(list_J / U, list_N * 1.0 / L, '.-')\n",
    "plt.xlabel('$J/U$')\n",
    "plt.ylabel('$\\\\langle N \\\\rangle/L$')\n",
    "plt.title('$L=%i$, $\\\\mu/U=%s$' % (L, mu / U))\n",
    "plt.grid()"
   ]
  },
  {
   "cell_type": "code",
   "execution_count": null,
   "metadata": {
    "collapsed": true
   },
   "outputs": [],
   "source": []
  }
 ],
 "metadata": {
  "kernelspec": {
   "display_name": "Python [default]",
   "language": "python",
   "name": "python2"
  },
  "language_info": {
   "codemirror_mode": {
    "name": "ipython",
    "version": 2
   },
   "file_extension": ".py",
   "mimetype": "text/x-python",
   "name": "python",
   "nbconvert_exporter": "python",
   "pygments_lexer": "ipython2",
   "version": "2.7.13"
  }
 },
 "nbformat": 4,
 "nbformat_minor": 2
}
