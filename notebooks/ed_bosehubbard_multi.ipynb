{
 "cells": [
  {
   "cell_type": "code",
   "execution_count": 1,
   "metadata": {
    "collapsed": true
   },
   "outputs": [],
   "source": [
    "%matplotlib inline\n",
    "\n",
    "from __future__ import print_function\n",
    "import math\n",
    "import itertools\n",
    "import numpy\n",
    "import numpy.linalg\n",
    "import matplotlib.pyplot as plt"
   ]
  },
  {
   "cell_type": "code",
   "execution_count": 2,
   "metadata": {},
   "outputs": [
    {
     "name": "stdout",
     "output_type": "stream",
     "text": [
      "#sites:                   4\n",
      "nmax:                     3\n",
      "Hilbert-space dimensions: 256\n"
     ]
    }
   ],
   "source": [
    "L = 4\n",
    "nmax = 3\n",
    "nstates = (nmax + 1) ** L\n",
    "states = numpy.empty((nstates, L), dtype=int)\n",
    "print('#sites:                   %i' % L)\n",
    "print('nmax:                     %i' % nmax)\n",
    "print('Hilbert-space dimensions: %i' % nstates)"
   ]
  },
  {
   "cell_type": "code",
   "execution_count": 3,
   "metadata": {},
   "outputs": [
    {
     "name": "stdout",
     "output_type": "stream",
     "text": [
      "States enumeration completed\n"
     ]
    }
   ],
   "source": [
    "istate=0\n",
    "for state in itertools.product(range(nmax + 1), repeat=L):\n",
    "    states[istate, :] = state[:]\n",
    "    istate += 1\n",
    "print('States enumeration completed')"
   ]
  },
  {
   "cell_type": "code",
   "execution_count": 4,
   "metadata": {},
   "outputs": [],
   "source": [
    "# Fill matrix H\n",
    "def build_H(states, U, J, mu):\n",
    "\n",
    "    _nstates = len(states)\n",
    "    _H = numpy.zeros((_nstates, _nstates))\n",
    "    for istate1, state1 in enumerate(states):\n",
    "        \n",
    "        # Diagonal terms\n",
    "        for site in xrange(L):\n",
    "            _H[istate1, istate1] += 0.5 * U * state1[site] * (state1[site] - 1.0)\n",
    "            _H[istate1, istate1] -= mu * state1[site]\n",
    "            \n",
    "        # Off-diagonal terms\n",
    "        for istate2, state2 in enumerate(states):\n",
    "\n",
    "            for site in xrange(L):\n",
    "\n",
    "                state1_site = state1[site]\n",
    "                state2_site = state2[site]\n",
    "                state1_site_p1 = state1[(site + 1) % L]\n",
    "                state2_site_p1 = state2[(site + 1) % L]\n",
    "\n",
    "                if ((state1_site == (state2_site + 1)) and\n",
    "                    (state1_site_p1 == (state2_site_p1 - 1))):\n",
    "                    _H[istate1, istate2] -= J * math.sqrt(state1_site * (state1_site_p1 + 1.0))\n",
    "                    assert istate1 != istate2\n",
    "                    \n",
    "                if ((state1_site_p1 == (state2_site_p1 + 1)) and\n",
    "                    (state1_site == (state2_site - 1))):\n",
    "                    _H[istate1, istate2] -= J * math.sqrt(state1_site_p1 * (state1_site + 1.0))\n",
    "                    \n",
    "    assert numpy.allclose(_H, _H.T)\n",
    "    return _H[:, :].copy()\n"
   ]
  },
  {
   "cell_type": "code",
   "execution_count": 5,
   "metadata": {},
   "outputs": [
    {
     "data": {
      "image/png": "[encoded data removed]",
      "text/plain": [
       "<matplotlib.figure.Figure at 0x7f4bbea6e390>"
      ]
     },
     "metadata": {},
     "output_type": "display_data"
    }
   ],
   "source": [
    "def get_Ntotal(coefficients, states):\n",
    "    Ntotal = 0.0\n",
    "    for istate, state in enumerate(states):\n",
    "        Ntotal += (coefficients[istate] ** 2) * state.sum()\n",
    "    return Ntotal\n",
    "\n",
    "\n",
    "U = 1.0\n",
    "mu = 0.5\n",
    "list_J = numpy.linspace(0.0, 0.15, 15)\n",
    "list_N = numpy.empty_like(list_J)\n",
    "for iJ, J in enumerate(list_J):\n",
    "    H = build_H(states, 10.0, J, mu)\n",
    "    evals, evecs = numpy.linalg.eigh(H)\n",
    "    indices = evals.argsort()\n",
    "    evals = evals[indices]\n",
    "    evecs = (evecs.T)[indices]\n",
    "    list_N[iJ] = get_Ntotal(evecs[0], states)\n",
    "\n",
    "plt.plot(list_J / U, list_N, '.-')\n",
    "plt.xlabel('$J/U$')\n",
    "plt.ylabel('$\\\\langle N \\\\rangle$')\n",
    "plt.title('$\\\\mu/U=%s$' % (mu / U))\n",
    "plt.grid()"
   ]
  }
 ],
 "metadata": {
  "kernelspec": {
   "display_name": "Python [default]",
   "language": "python",
   "name": "python2"
  },
  "language_info": {
   "codemirror_mode": {
    "name": "ipython",
    "version": 2
   },
   "file_extension": ".py",
   "mimetype": "text/x-python",
   "name": "python",
   "nbconvert_exporter": "python",
   "pygments_lexer": "ipython2",
   "version": "2.7.13"
  }
 },
 "nbformat": 4,
 "nbformat_minor": 2
}
