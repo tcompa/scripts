{
 "cells": [
  {
   "cell_type": "code",
   "execution_count": 2,
   "metadata": {
    "collapsed": true
   },
   "outputs": [],
   "source": [
    "%matplotlib inline\n",
    "\n",
    "from __future__ import print_function\n",
    "import math\n",
    "import itertools\n",
    "import numpy\n",
    "import numpy.linalg\n",
    "import matplotlib.pyplot as plt"
   ]
  },
  {
   "cell_type": "code",
   "execution_count": 3,
   "metadata": {},
   "outputs": [
    {
     "name": "stdout",
     "output_type": "stream",
     "text": [
      "J/U:  0.010000\n",
      "mu/U: 0.500000\n"
     ]
    }
   ],
   "source": [
    "U = 1.0\n",
    "J = 0.01\n",
    "mu = 0.5\n",
    "print('J/U:  %f' % (J / U))\n",
    "print('mu/U: %f' % (mu / U))"
   ]
  },
  {
   "cell_type": "code",
   "execution_count": 4,
   "metadata": {},
   "outputs": [
    {
     "name": "stdout",
     "output_type": "stream",
     "text": [
      "#sites:                   3\n",
      "nmax:                     2\n",
      "Hilbert-space dimensions: 27\n"
     ]
    }
   ],
   "source": [
    "L = 3\n",
    "nmax = 2\n",
    "nstates = (nmax + 1) ** L\n",
    "H = numpy.zeros((nstates,nstates))\n",
    "states = numpy.empty((nstates, L), dtype=int)\n",
    "print('#sites:                   %i' % L)\n",
    "print('nmax:                     %i' % nmax)\n",
    "print('Hilbert-space dimensions: %i' % nstates)"
   ]
  },
  {
   "cell_type": "code",
   "execution_count": 5,
   "metadata": {},
   "outputs": [
    {
     "name": "stdout",
     "output_type": "stream",
     "text": [
      "States enumeration completed\n"
     ]
    }
   ],
   "source": [
    "istate=0\n",
    "for state in itertools.product(range(nmax + 1), repeat=L):\n",
    "    states[istate, :] = state[:]\n",
    "    istate += 1\n",
    "print('States enumeration completed')"
   ]
  },
  {
   "cell_type": "code",
   "execution_count": 6,
   "metadata": {},
   "outputs": [
    {
     "name": "stdout",
     "output_type": "stream",
     "text": [
      "All entries of H filled.\n",
      "Is the matrix H symmetric? True\n"
     ]
    }
   ],
   "source": [
    "# Fill matrix H\n",
    "for istate1, state1 in enumerate(states):\n",
    "    # Diagonal terms\n",
    "    for site in xrange(L):\n",
    "        H[istate1, istate1] += 0.5 * U * state1[site] * (state1[site] - 1.0)\n",
    "        H[istate1, istate1] -= mu * state1[site]\n",
    "\n",
    "    # Off-diagonal terms\n",
    "    for istate2, state2 in enumerate(states):\n",
    "        H[istate1, istate2] = 0.0\n",
    "        for site in xrange(L):\n",
    "            \n",
    "            state1_site = state1[site]\n",
    "            state2_site = state2[site]\n",
    "            state1_site_p1 = state1[(site + 1) % L]\n",
    "            state2_site_p1 = state2[(site + 1) % L]\n",
    "            \n",
    "            if ((state1_site == (state2_site + 1)) and\n",
    "                (state1_site_p1 == (state2_site_p1 - 1))):\n",
    "                H[istate1, istate2] -= J * math.sqrt(state1_site * (state1_site_p1 + 1.0))\n",
    "                assert istate1 != istate2\n",
    "            if ((state1_site_p1 == (state2_site_p1 + 1)) and\n",
    "                (state1_site == (state2_site - 1))):\n",
    "                H[istate1, istate2] -= J * math.sqrt(state1_site_p1 * (state1_site + 1.0))\n",
    "\n",
    "print('All entries of H filled.')\n",
    "print('Is the matrix H symmetric?', numpy.allclose(H, H.T))"
   ]
  },
  {
   "cell_type": "code",
   "execution_count": 7,
   "metadata": {},
   "outputs": [
    {
     "data": {
      "text/plain": [
       "<matplotlib.text.Text at 0x7f8f4fd9a8d0>"
      ]
     },
     "execution_count": 7,
     "metadata": {},
     "output_type": "execute_result"
    },
    {
     "data": {
      "image/png": "[encoded data removed]",
      "text/plain": [
       "<matplotlib.figure.Figure at 0x7f8f783c13d0>"
      ]
     },
     "metadata": {},
     "output_type": "display_data"
    }
   ],
   "source": [
    "plt.matshow(H, origin='lower')\n",
    "plt.title('Hamiltonian matrix')\n",
    "plt.gca().xaxis.tick_bottom()\n",
    "plt.colorbar()\n",
    "plt.xlabel('States')\n",
    "plt.ylabel('States')"
   ]
  },
  {
   "cell_type": "code",
   "execution_count": 24,
   "metadata": {},
   "outputs": [
    {
     "name": "stdout",
     "output_type": "stream",
     "text": [
      "0-th eigenvalue: -0.142047 1.0\n",
      "1-th eigenvalue: -0.067535 1.0\n",
      "2-th eigenvalue: -0.057010 1.0\n",
      "3-th eigenvalue: -0.057010 1.0\n",
      "4-th eigenvalue: -0.040140 1.0\n"
     ]
    }
   ],
   "source": [
    "evals, evecs = numpy.linalg.eigh(H)\n",
    "indices = evals.argsort()\n",
    "evals = evals[indices]\n",
    "evecs = (evecs.T)[indices]\n",
    "for ind in xrange(5):\n",
    "    print('%i-th eigenvalue: %+f' % (ind, evals[ind]))"
   ]
  },
  {
   "cell_type": "code",
   "execution_count": 25,
   "metadata": {},
   "outputs": [
    {
     "name": "stdout",
     "output_type": "stream",
     "text": [
      "[ 0 | E=-0.142047] <n_i>: [1.139991164602828, 1.139991164602828, 1.1399911646028285]\n",
      "[ 1 | E=-0.067535] <n_i>: [1.203204211907172, 1.2032042119071722, 1.203204211907172]\n",
      "[ 2 | E=-0.057010] <n_i>: [1.0328382669818887, 1.0633607521099047, 1.2462303737599782]\n",
      "[ 3 | E=-0.057010] <n_i>: [1.1954479949192895, 1.1649255097912738, 0.9820558881412017]\n",
      "[ 4 | E=-0.040140] <n_i>: [0.65799870321396969, 0.65799870321396969, 0.65799870321396858]\n",
      "[ 5 | E=-0.033277] <n_i>: [0.89904115717280275, 0.96483861565956697, 1.0372243926913958]\n",
      "[ 6 | E=-0.033277] <n_i>: [1.0350282865097067, 0.96923082802294203, 0.89684505099111445]\n",
      "[ 7 | E=-0.000000] <n_i>: [0.76615013501355722, 0.70253177253313936, 1.0962469319495907]\n",
      "[ 8 | E=-0.000000] <n_i>: [1.0194199896610678, 1.4680983295468033, 0.61554836882166442]\n",
      "[ 9 | E=-0.000000] <n_i>: [1.3310274294455517, 0.73440446654767699, 0.48187001862231094]\n",
      "[10 | E=+0.000000] <n_i>: [0.0, 0.0, 0.0]\n",
      "[11 | E=+0.000000] <n_i>: [2.0, 2.0, 2.0]\n",
      "[12 | E=+0.000000] <n_i>: [1.0172246597960219, 0.80514054238621191, 1.2124440449466924]\n",
      "[13 | E=+0.000000] <n_i>: [0.74275565843876046, 0.73990646423267825, 0.81623738536235346]\n",
      "[14 | E=+0.000000] <n_i>: [1.1956364649946889, 1.4933898553581282, 0.92545405407939618]\n",
      "[15 | E=+0.000000] <n_i>: [1.1860700853449107, 1.2742597893100591, 1.0105973526002143]\n",
      "[16 | E=+0.000000] <n_i>: [0.80541205489970014, 0.79894172228319371, 1.2484665976429679]\n",
      "[17 | E=+0.000000] <n_i>: [1.1809921920200896, 0.76624252231250123, 1.5540368403830704]\n",
      "[18 | E=+0.000000] <n_i>: [0.75531133038565557, 1.2170845354896114, 1.0390984055917436]\n",
      "[19 | E=+0.006930] <n_i>: [0.87496640334177089, 0.86906542478016224, 0.72268962147723825]\n",
      "[20 | E=+0.006930] <n_i>: [0.7695145630576774, 0.77541554161928583, 0.92179134492220938]\n",
      "[21 | E=+0.030000] <n_i>: [1.0000000000000011, 1.0000000000000009, 1.0000000000000007]\n",
      "[22 | E=+0.044174] <n_i>: [0.94038438918913292, 0.96485266904507239, 0.70956839409450223]\n",
      "[23 | E=+0.044174] <n_i>: [0.80281924569667407, 0.7783509658407346, 1.0336352407913054]\n",
      "[24 | E=+0.099183] <n_i>: [1.1478402396505336, 1.1879594463313854, 1.3391398537146664]\n",
      "[25 | E=+0.099183] <n_i>: [1.3021194534805269, 1.2620002467996754, 1.1108198394163924]\n",
      "[26 | E=+0.099722] <n_i>: [0.99880592027603199, 0.99880592027603232, 0.99880592027603265]\n"
     ]
    }
   ],
   "source": [
    "def average_on_site_density(site, coefficients, states):\n",
    "    assert abs((coefficients ** 2).sum() - 1.0) < 1e-10\n",
    "    dens = 0.0\n",
    "    for istate, state in enumerate(states):\n",
    "        dens += (coefficients[istate] ** 2) * state[site]\n",
    "    return dens\n",
    "\n",
    "for istate in xrange(nstates):\n",
    "    ns = [average_on_site_density(site, evecs[istate], states) for site in xrange(L)]\n",
    "    print('[%2i | E=%+f] <n_i>:' % (istate, evals[istate]), ns)\n"
   ]
  },
  {
   "cell_type": "code",
   "execution_count": null,
   "metadata": {
    "collapsed": true
   },
   "outputs": [],
   "source": []
  }
 ],
 "metadata": {
  "kernelspec": {
   "display_name": "Python [default]",
   "language": "python",
   "name": "python2"
  },
  "language_info": {
   "codemirror_mode": {
    "name": "ipython",
    "version": 2
   },
   "file_extension": ".py",
   "mimetype": "text/x-python",
   "name": "python",
   "nbconvert_exporter": "python",
   "pygments_lexer": "ipython2",
   "version": "2.7.13"
  }
 },
 "nbformat": 4,
 "nbformat_minor": 2
}
