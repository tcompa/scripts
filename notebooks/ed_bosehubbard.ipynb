{
 "cells": [
  {
   "cell_type": "code",
   "execution_count": 30,
   "metadata": {
    "collapsed": true
   },
   "outputs": [],
   "source": [
    "%matplotlib inline\n",
    "\n",
    "from __future__ import print_function\n",
    "import math\n",
    "import itertools\n",
    "import numpy\n",
    "import numpy.linalg\n",
    "import matplotlib.pyplot as plt"
   ]
  },
  {
   "cell_type": "code",
   "execution_count": 31,
   "metadata": {},
   "outputs": [
    {
     "name": "stdout",
     "output_type": "stream",
     "text": [
      "J/U:  0.010000\n",
      "mu/U: 0.500000\n"
     ]
    }
   ],
   "source": [
    "U = 1.0\n",
    "J = 0.01\n",
    "mu = 0.5\n",
    "print('J/U:  %f' % (J / U))\n",
    "print('mu/U: %f' % (mu / U))"
   ]
  },
  {
   "cell_type": "code",
   "execution_count": 32,
   "metadata": {},
   "outputs": [
    {
     "name": "stdout",
     "output_type": "stream",
     "text": [
      "#sites:                   5\n",
      "nmax:                     3\n",
      "Hilbert-space dimensions: 1024\n"
     ]
    }
   ],
   "source": [
    "L = 5\n",
    "nmax = 3\n",
    "nstates = (nmax + 1) ** L\n",
    "states = numpy.empty((nstates, L), dtype=int)\n",
    "print('#sites:                   %i' % L)\n",
    "print('nmax:                     %i' % nmax)\n",
    "print('Hilbert-space dimensions: %i' % nstates)"
   ]
  },
  {
   "cell_type": "code",
   "execution_count": 33,
   "metadata": {},
   "outputs": [
    {
     "name": "stdout",
     "output_type": "stream",
     "text": [
      "States enumeration completed\n"
     ]
    }
   ],
   "source": [
    "istate=0\n",
    "for state in itertools.product(range(nmax + 1), repeat=L):\n",
    "    states[istate, :] = state[:]\n",
    "    istate += 1\n",
    "print('States enumeration completed')"
   ]
  },
  {
   "cell_type": "code",
   "execution_count": 45,
   "metadata": {},
   "outputs": [
    {
     "name": "stdout",
     "output_type": "stream",
     "text": [
      "All entries of H filled.\n",
      "Is the matrix H symmetric? True\n"
     ]
    }
   ],
   "source": [
    "# Fill matrix H\n",
    "def build_H(states, U, J, mu):\n",
    "    H = numpy.zeros((nstates,nstates))\n",
    "    for istate1, state1 in enumerate(states):\n",
    "        # Diagonal terms\n",
    "        for site in xrange(L):\n",
    "            H[istate1, istate1] += 0.5 * U * state1[site] * (state1[site] - 1.0)\n",
    "            H[istate1, istate1] -= mu * state1[site]\n",
    "\n",
    "        # Off-diagonal terms\n",
    "        for istate2, state2 in enumerate(states):\n",
    "            H[istate1, istate2] = 0.0\n",
    "            for site in xrange(L):\n",
    "\n",
    "                state1_site = state1[site]\n",
    "                state2_site = state2[site]\n",
    "                state1_site_p1 = state1[(site + 1) % L]\n",
    "                state2_site_p1 = state2[(site + 1) % L]\n",
    "\n",
    "                if ((state1_site == (state2_site + 1)) and\n",
    "                    (state1_site_p1 == (state2_site_p1 - 1))):\n",
    "                    H[istate1, istate2] -= J * math.sqrt(state1_site * (state1_site_p1 + 1.0))\n",
    "                    assert istate1 != istate2\n",
    "                if ((state1_site_p1 == (state2_site_p1 + 1)) and\n",
    "                    (state1_site == (state2_site - 1))):\n",
    "                    H[istate1, istate2] -= J * math.sqrt(state1_site_p1 * (state1_site + 1.0))\n",
    "    print('All entries of H filled.')\n",
    "    print('Is the matrix H symmetric?', numpy.allclose(H, H.T))\n",
    "    return H\n",
    "H = build_H(states, U, J, mu)"
   ]
  },
  {
   "cell_type": "code",
   "execution_count": 46,
   "metadata": {},
   "outputs": [],
   "source": [
    "if nstates < 100:\n",
    "    plt.matshow(H, origin='lower')\n",
    "    plt.title('Hamiltonian matrix')\n",
    "    plt.gca().xaxis.tick_bottom()\n",
    "    plt.colorbar()\n",
    "    plt.xlabel('States')\n",
    "    plt.ylabel('States')"
   ]
  },
  {
   "cell_type": "code",
   "execution_count": 47,
   "metadata": {},
   "outputs": [
    {
     "name": "stdout",
     "output_type": "stream",
     "text": [
      "0-th eigenvalue: -7.779445\n",
      "1-th eigenvalue: -2.424119\n",
      "2-th eigenvalue: -2.209857\n",
      "3-th eigenvalue: -2.209857\n",
      "4-th eigenvalue: -2.139946\n"
     ]
    }
   ],
   "source": [
    "evals, evecs = numpy.linalg.eigh(H)\n",
    "indices = evals.argsort()\n",
    "evals = evals[indices]\n",
    "evecs = (evecs.T)[indices]\n",
    "for ind in xrange(5):\n",
    "    print('%i-th eigenvalue: %+f' % (ind, evals[ind]))"
   ]
  },
  {
   "cell_type": "code",
   "execution_count": 48,
   "metadata": {},
   "outputs": [
    {
     "name": "stdout",
     "output_type": "stream",
     "text": [
      "[ 0 | E=-7.779445] <n_i>: [1.6595157621122416, 1.6595157621122436, 1.6595157621122449]\n",
      "[ 1 | E=-2.424119] <n_i>: [1.6943024682972816, 1.6943024682972829, 1.6943024682972816]\n",
      "[ 2 | E=-2.209857] <n_i>: [1.5920600145171357, 1.6512692139288161, 1.6512692222712579]\n",
      "[ 3 | E=-2.209857] <n_i>: [1.6777483774959765, 1.618539178084295, 1.6185391697418567]\n",
      "[ 4 | E=-2.139946] <n_i>: [1.7347726313786185, 1.7347726313786092, 1.7347726313786083]\n",
      "[ 5 | E=-2.083776] <n_i>: [1.8145987181193461, 1.860278013474473, 1.8602780134744734]\n",
      "[ 6 | E=-2.083776] <n_i>: [1.880706415390158, 1.835027120035017, 1.8350271200350192]\n",
      "[ 7 | E=-2.064665] <n_i>: [1.6218260095781702, 1.7892594716539687, 1.7892594716539678]\n",
      "[ 8 | E=-2.064665] <n_i>: [1.7143809510720462, 1.5469474889962667, 1.5469474889962618]\n",
      "[ 9 | E=-1.770475] <n_i>: [1.5702435772141368, 1.7237948782041499, 1.7237948781854977]\n",
      "[10 | E=-1.770475] <n_i>: [1.6551246487677154, 1.5015733477777016, 1.5015733477963524]\n",
      "[11 | E=-1.635770] <n_i>: [1.3461199831735984, 1.3930822891304453, 1.3930822891304466]\n",
      "[12 | E=-1.635770] <n_i>: [1.4140844708303737, 1.3671221648735243, 1.3671221648735303]\n",
      "[13 | E=-1.566070] <n_i>: [1.3367800951292048, 1.3367800951292064, 1.3367800951292073]\n",
      "[14 | E=-1.262656] <n_i>: [1.4868459088831096, 1.4830459662212905, 1.4830459662212945]\n",
      "[15 | E=-1.262656] <n_i>: [1.484745352241772, 1.4885452949035913, 1.4885452949035893]\n",
      "[16 | E=-0.892649] <n_i>: [1.1787302564869722, 1.1553989577666666, 1.1553989577666695]\n",
      "[17 | E=-0.892649] <n_i>: [1.1449648837782771, 1.1682961824985367, 1.1682961824986264]\n",
      "[18 | E=-0.889249] <n_i>: [1.4185719713812135, 1.1997368717689323, 1.1997368717688421]\n",
      "[19 | E=-0.889249] <n_i>: [1.2976029034881034, 1.5164380031004379, 1.5164380031004312]\n",
      "[20 | E=-0.804538] <n_i>: [1.0745912159746036, 1.0745912159745987, 1.0745912159745994]\n",
      "[21 | E=-0.350022] <n_i>: [1.5795207421817434, 1.5481806524141029, 1.5481806524141031]\n",
      "[22 | E=-0.350022] <n_i>: [1.5341649381858251, 1.5655050279534661, 1.5655050279534672]\n",
      "[23 | E=-0.294520] <n_i>: [1.507733103808033, 1.5077331038080337, 1.5077331038080322]\n",
      "[24 | E=-0.265909] <n_i>: [1.4047361263790858, 1.4247986978347147, 1.4247986978347154]\n"
     ]
    }
   ],
   "source": [
    "def average_on_site_density(site, coefficients, states):\n",
    "    assert abs((coefficients ** 2).sum() - 1.0) < 1e-10\n",
    "    dens = 0.0\n",
    "    for istate, state in enumerate(states):\n",
    "        dens += (coefficients[istate] ** 2) * state[site]\n",
    "    return dens\n",
    "\n",
    "for istate in xrange(min(nstates, 25)):\n",
    "    ns = [average_on_site_density(site, evecs[istate], states) for site in xrange(min(L, 3))]\n",
    "    print('[%2i | E=%+f] <n_i>:' % (istate, evals[istate]), ns)\n"
   ]
  },
  {
   "cell_type": "code",
   "execution_count": null,
   "metadata": {
    "collapsed": true
   },
   "outputs": [],
   "source": []
  }
 ],
 "metadata": {
  "kernelspec": {
   "display_name": "Python [default]",
   "language": "python",
   "name": "python2"
  },
  "language_info": {
   "codemirror_mode": {
    "name": "ipython",
    "version": 2
   },
   "file_extension": ".py",
   "mimetype": "text/x-python",
   "name": "python",
   "nbconvert_exporter": "python",
   "pygments_lexer": "ipython2",
   "version": "2.7.13"
  }
 },
 "nbformat": 4,
 "nbformat_minor": 2
}
