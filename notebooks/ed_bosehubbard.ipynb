{
 "cells": [
  {
   "cell_type": "code",
   "execution_count": 1,
   "metadata": {
    "collapsed": true
   },
   "outputs": [],
   "source": [
    "%matplotlib inline\n",
    "\n",
    "from __future__ import print_function\n",
    "import math\n",
    "import itertools\n",
    "import numpy\n",
    "import numpy.linalg\n",
    "import matplotlib.pyplot as plt"
   ]
  },
  {
   "cell_type": "code",
   "execution_count": 82,
   "metadata": {},
   "outputs": [
    {
     "name": "stdout",
     "output_type": "stream",
     "text": [
      "J/U:  0.010000\n",
      "mu/U: 0.500000\n"
     ]
    }
   ],
   "source": [
    "U = 1.0\n",
    "J = 0.01\n",
    "mu = 0.5\n",
    "print('J/U:  %f' % (J / U))\n",
    "print('mu/U: %f' % (mu / U))"
   ]
  },
  {
   "cell_type": "code",
   "execution_count": 119,
   "metadata": {},
   "outputs": [
    {
     "name": "stdout",
     "output_type": "stream",
     "text": [
      "#sites:                   3\n",
      "nmax:                     2\n",
      "Hilbert-space dimensions: 27\n"
     ]
    }
   ],
   "source": [
    "L = 3\n",
    "nmax = 2\n",
    "nstates = (nmax + 1) ** L\n",
    "H = numpy.zeros((nstates,nstates))\n",
    "states = numpy.empty((nstates, L), dtype=int)\n",
    "print('#sites:                   %i' % L)\n",
    "print('nmax:                     %i' % nmax)\n",
    "print('Hilbert-space dimensions: %i' % nstates)"
   ]
  },
  {
   "cell_type": "code",
   "execution_count": 120,
   "metadata": {},
   "outputs": [
    {
     "name": "stdout",
     "output_type": "stream",
     "text": [
      "States enumeration completed\n"
     ]
    }
   ],
   "source": [
    "istate=0\n",
    "for state in itertools.product(range(nmax + 1), repeat=L):\n",
    "    states[istate, :] = state[:]\n",
    "    istate += 1\n",
    "print('States enumeration completed')"
   ]
  },
  {
   "cell_type": "code",
   "execution_count": 121,
   "metadata": {},
   "outputs": [
    {
     "name": "stdout",
     "output_type": "stream",
     "text": [
      "All entries of H filled.\n",
      "Is the matrix H symmetric? True\n"
     ]
    }
   ],
   "source": [
    "# Fill matrix H\n",
    "for istate1, state1 in enumerate(states):\n",
    "    # Diagonal terms\n",
    "    for site in xrange(L):\n",
    "        H[istate1, istate1] += 0.5 * U * state1[site] * (state1[site] - 1.0)\n",
    "        H[istate1, istate1] -= mu * state1[site]\n",
    "\n",
    "    # Off-diagonal terms\n",
    "    for istate2, state2 in enumerate(states):\n",
    "        H[istate1, istate2] = 0.0\n",
    "        for site in xrange(L):\n",
    "            \n",
    "            state1_site = state1[site]\n",
    "            state2_site = state2[site]\n",
    "            state1_site_p1 = state1[(site + 1) % L]\n",
    "            state2_site_p1 = state2[(site + 1) % L]\n",
    "            \n",
    "            if ((state1_site == (state2_site + 1)) and\n",
    "                (state1_site_p1 == (state2_site_p1 - 1))):\n",
    "                H[istate1, istate2] -= J * math.sqrt(state1_site * (state1_site_p1 + 1.0))\n",
    "                assert istate1 != istate2\n",
    "            if ((state1_site_p1 == (state2_site_p1 + 1)) and\n",
    "                (state1_site == (state2_site - 1))):\n",
    "                H[istate1, istate2] -= J * math.sqrt(state1_site_p1 * (state1_site + 1.0))\n",
    "\n",
    "print('All entries of H filled.')\n",
    "print('Is the matrix H symmetric?', numpy.allclose(H, H.T))"
   ]
  },
  {
   "cell_type": "code",
   "execution_count": 1,
   "metadata": {},
   "outputs": [
    {
     "ename": "NameError",
     "evalue": "name 'plt' is not defined",
     "output_type": "error",
     "traceback": [
      "\u001b[0;31m---------------------------------------------------------------------------\u001b[0m",
      "\u001b[0;31mNameError\u001b[0m                                 Traceback (most recent call last)",
      "\u001b[0;32m<ipython-input-1-4a190bdf4e4c>\u001b[0m in \u001b[0;36m<module>\u001b[0;34m()\u001b[0m\n\u001b[0;32m----> 1\u001b[0;31m \u001b[0mplt\u001b[0m\u001b[0;34m.\u001b[0m\u001b[0mmatshow\u001b[0m\u001b[0;34m(\u001b[0m\u001b[0mH\u001b[0m\u001b[0;34m,\u001b[0m \u001b[0morigin\u001b[0m\u001b[0;34m=\u001b[0m\u001b[0;34m'lower'\u001b[0m\u001b[0;34m)\u001b[0m\u001b[0;34m\u001b[0m\u001b[0m\n\u001b[0m\u001b[1;32m      2\u001b[0m \u001b[0mplt\u001b[0m\u001b[0;34m.\u001b[0m\u001b[0mgca\u001b[0m\u001b[0;34m(\u001b[0m\u001b[0;34m)\u001b[0m\u001b[0;34m.\u001b[0m\u001b[0mxaxis\u001b[0m\u001b[0;34m.\u001b[0m\u001b[0mtick_bottom\u001b[0m\u001b[0;34m(\u001b[0m\u001b[0;34m)\u001b[0m\u001b[0;34m\u001b[0m\u001b[0m\n\u001b[1;32m      3\u001b[0m \u001b[0mplt\u001b[0m\u001b[0;34m.\u001b[0m\u001b[0mcolorbar\u001b[0m\u001b[0;34m(\u001b[0m\u001b[0;34m)\u001b[0m\u001b[0;34m\u001b[0m\u001b[0m\n\u001b[1;32m      4\u001b[0m \u001b[0mplt\u001b[0m\u001b[0;34m.\u001b[0m\u001b[0mxlabel\u001b[0m\u001b[0;34m(\u001b[0m\u001b[0;34m'States'\u001b[0m\u001b[0;34m)\u001b[0m\u001b[0;34m\u001b[0m\u001b[0m\n\u001b[1;32m      5\u001b[0m \u001b[0mplt\u001b[0m\u001b[0;34m.\u001b[0m\u001b[0mylabel\u001b[0m\u001b[0;34m(\u001b[0m\u001b[0;34m'States'\u001b[0m\u001b[0;34m)\u001b[0m\u001b[0;34m\u001b[0m\u001b[0m\n",
      "\u001b[0;31mNameError\u001b[0m: name 'plt' is not defined"
     ]
    }
   ],
   "source": [
    "plt.matshow(H, origin='lower')\n",
    "plt.gca().xaxis.tick_bottom()\n",
    "plt.colorbar()\n",
    "plt.xlabel('States')\n",
    "plt.ylabel('States')"
   ]
  },
  {
   "cell_type": "code",
   "execution_count": 123,
   "metadata": {},
   "outputs": [
    {
     "name": "stdout",
     "output_type": "stream",
     "text": [
      "0-th eigenvalue: -0.142047\n",
      "1-th eigenvalue: -0.067535\n",
      "2-th eigenvalue: -0.057010\n",
      "3-th eigenvalue: -0.057010\n",
      "4-th eigenvalue: -0.040140\n"
     ]
    }
   ],
   "source": [
    "evals, evecs = numpy.linalg.eigh(H)\n",
    "indices = evals.argsort()\n",
    "evals = evals[indices]\n",
    "evecs = (evecs.T)[indices]\n",
    "for ind in xrange(5):\n",
    "    print('%i-th eigenvalue: %+f' % (ind, evals[ind]))"
   ]
  },
  {
   "cell_type": "code",
   "execution_count": 124,
   "metadata": {},
   "outputs": [
    {
     "name": "stdout",
     "output_type": "stream",
     "text": [
      "[0-th state | E=-0.142047] <n_i>: [5.1228800690575103, 5.1228800690575085, 5.1228800690575103]\n",
      "[1-th state | E=-0.067535] <n_i>: [-0.61997454375210825, -0.61997454375210748, -0.61997454375210692]\n",
      "[2-th state | E=-0.057010] <n_i>: [-0.42912649955657262, 0.39743356529596258, 0.031692934260609568]\n",
      "[3-th state | E=-0.057010] <n_i>: [0.21116045178184462, 0.26605422416215985, -0.47721467594400591]\n",
      "[4-th state | E=-0.040140] <n_i>: [-0.060469709218386736, -0.060469709218385098, -0.060469709218391579]\n",
      "[5-th state | E=-0.033277] <n_i>: [0.30557377664010343, 0.78313592334497328, -1.0887096999850736]\n",
      "[6-th state | E=-0.033277] <n_i>: [-1.0807105745110241, 0.80498994055619177, 0.27572063395483332]\n",
      "[7-th state | E=-0.000000] <n_i>: [-0.48889487085527072, 1.0421641301128666, -0.53863021377550724]\n"
     ]
    }
   ],
   "source": [
    "def average_on_site_density(site, coefficients, states):\n",
    "    dens = 0.0\n",
    "    for istate, state in enumerate(states):\n",
    "        dens += coefficients[istate] * state[site]\n",
    "    return dens\n",
    "\n",
    "for istate in xrange(8):\n",
    "    ns = [average_on_site_density(site, evecs[istate], states) for site in xrange(L)]\n",
    "    print('[%i-th state | E=%+f] <n_i>:' % (istate, evals[istate]), ns)\n"
   ]
  },
  {
   "cell_type": "code",
   "execution_count": null,
   "metadata": {
    "collapsed": true
   },
   "outputs": [],
   "source": []
  }
 ],
 "metadata": {
  "kernelspec": {
   "display_name": "Python 2",
   "language": "python",
   "name": "python2"
  },
  "language_info": {
   "codemirror_mode": {
    "name": "ipython",
    "version": 2
   },
   "file_extension": ".py",
   "mimetype": "text/x-python",
   "name": "python",
   "nbconvert_exporter": "python",
   "pygments_lexer": "ipython2",
   "version": "2.7.13"
  }
 },
 "nbformat": 4,
 "nbformat_minor": 2
}
